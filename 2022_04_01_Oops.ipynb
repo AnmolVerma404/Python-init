{
 "cells": [
  {
   "cell_type": "markdown",
   "metadata": {},
   "source": [
    "# OOP's\n",
    "## Class & Objects\n",
    "### How to define a class in python\n",
    "```py\n",
    "class Name:\n",
    "```\n",
    "Here class is keyword and Name is the name of the class and the first character of name should be capital\n",
    "Until the object of the class is created/called it will not take an memory"
   ]
  },
  {
   "cell_type": "code",
   "execution_count": 5,
   "metadata": {},
   "outputs": [],
   "source": [
    "class Sum1:\n",
    "    def sum(self): # \n",
    "        return self.a,self.b\n",
    "# Creating instance for the class\n",
    "s1 = Sum1()\n",
    "s1.a = 10\n",
    "s1.b = 20"
   ]
  },
  {
   "cell_type": "code",
   "execution_count": 14,
   "metadata": {},
   "outputs": [
    {
     "name": "stdout",
     "output_type": "stream",
     "text": [
      "1.0\n",
      "1000.0\n",
      "-17.22222222222222\n",
      "Aajao\n",
      "None\n"
     ]
    }
   ],
   "source": [
    "# Write a python program for creating a class named as calculator having methods: 1) For calculating BMI 2) Conversion of Km in m 3) Conversion of fahrenheit to celsius\n",
    "class Calculator:\n",
    "    def Bmi(self):\n",
    "        bmi = self.wt/(self.hi**2)\n",
    "        return bmi\n",
    "    def KmToM(self):\n",
    "        m = self.km*1000\n",
    "        return m\n",
    "    def FrhToC(self):\n",
    "        celsius = (self.frh-32)*5/9\n",
    "        return celsius\n",
    "# 1st\n",
    "weight = float(input(\"Enter your weight\"))\n",
    "height = float(input(\"Enter your height\"))\n",
    "c1 = Calculator()\n",
    "c1.wt = weight\n",
    "c1.hi = height\n",
    "print(c1.Bmi())\n",
    "# 2nd\n",
    "kilometer = float(input(\"Enter kilometers\"))\n",
    "c2 = Calculator()\n",
    "c2.km = kilometer\n",
    "print(c2.KmToM())\n",
    "# 3rd\n",
    "fahrenheit = float(input(\"Enter temperature in fahrenheit\"))\n",
    "c3 = Calculator()\n",
    "c3.frh = fahrenheit\n",
    "print(c3.FrhToC())"
   ]
  }
 ],
 "metadata": {
  "interpreter": {
   "hash": "3df1da5a001643c52532ecdada6e89843ccc0e6cdc890101982cbbd5276e2735"
  },
  "kernelspec": {
   "display_name": "Python 3.9.0 64-bit",
   "language": "python",
   "name": "python3"
  },
  "language_info": {
   "codemirror_mode": {
    "name": "ipython",
    "version": 3
   },
   "file_extension": ".py",
   "mimetype": "text/x-python",
   "name": "python",
   "nbconvert_exporter": "python",
   "pygments_lexer": "ipython3",
   "version": "3.9.0"
  },
  "orig_nbformat": 4
 },
 "nbformat": 4,
 "nbformat_minor": 2
}
