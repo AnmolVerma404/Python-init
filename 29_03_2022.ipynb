{
 "cells": [
  {
   "cell_type": "code",
   "execution_count": null,
   "metadata": {},
   "outputs": [],
   "source": [
    "# Q Create two list compare them and print the output as true if the element of the list are same\n",
    "list1 = [1,2,3,4]\n",
    "list2 = [1,2,3,4]\n",
    "list3 = [2,3,1,4]\n",
    "if list1==list2:\n",
    "    print(\"True\")\n",
    "else:\n",
    "    print(\"False\")\n",
    "if list1==list3:\n",
    "    print(\"True\")\n",
    "else:\n",
    "    print(\"False\")"
   ]
  },
  {
   "cell_type": "code",
   "execution_count": null,
   "metadata": {},
   "outputs": [],
   "source": [
    "# Write a program to create a list of numbers print the sum of all numbers and also print the multiplication of all nummber by 5\n",
    "list1 = [1,2,3,4,5]\n",
    "add = sum(list1)\n",
    "print(add)\n",
    "mul  = 1\n",
    "list2 = []\n",
    "for i in list1:\n",
    "    list2.append(i*5)\n",
    "print(list2)"
   ]
  },
  {
   "cell_type": "code",
   "execution_count": null,
   "metadata": {},
   "outputs": [],
   "source": [
    "# Write a program to reverse a list\n",
    "list1 = [\"A\",\"B\",\"C\",\"D\"]\n",
    "list1.reverse()\n",
    "print(list1)"
   ]
  },
  {
   "cell_type": "markdown",
   "metadata": {},
   "source": [
    "### Tuples in Python\n",
    "```python\n",
    "t1 = (1,2,3,4,5)\n",
    "print(t1)\n",
    "```\n",
    "Always when defining a single value tuple always use ','\n"
   ]
  },
  {
   "cell_type": "code",
   "execution_count": null,
   "metadata": {},
   "outputs": [],
   "source": [
    "# Create a tuple for a single value integer and string\n",
    "t1 = (3,)\n",
    "t2 = (\"Anmol\",)\n",
    "print(type(t1),t1)\n",
    "print(type(t2),t2)"
   ]
  },
  {
   "cell_type": "code",
   "execution_count": null,
   "metadata": {},
   "outputs": [],
   "source": [
    "# Take a tuple you have to print index of the 1\n",
    "t1 = ('a','b','c')\n",
    "print(t1.index('b'))\n",
    "# print(t1[3]) # Error : Index out of range\n",
    "print(t1[-1])"
   ]
  },
  {
   "cell_type": "code",
   "execution_count": null,
   "metadata": {},
   "outputs": [],
   "source": [
    "t1 = (1,2,3,4)\n",
    "t1[2] = 41 # Error: Tuples are immutable\n",
    "print(t1)"
   ]
  },
  {
   "cell_type": "code",
   "execution_count": 24,
   "metadata": {},
   "outputs": [
    {
     "name": "stdout",
     "output_type": "stream",
     "text": [
      "('a', 'b', 'c') (1, 3, 4, 5)\n"
     ]
    }
   ],
   "source": [
    "t1 = (1,3,4,5)\n",
    "t2 = ('a','b','c')\n",
    "t1,t2 = t2,t1\n",
    "print(t1,t2)"
   ]
  },
  {
   "cell_type": "code",
   "execution_count": 30,
   "metadata": {},
   "outputs": [
    {
     "name": "stdout",
     "output_type": "stream",
     "text": [
      "Slice (78, 95, 41)\n",
      "Size 8\n",
      "Min 2\n",
      "Max 95\n"
     ]
    }
   ],
   "source": [
    "# Silce a tuple\n",
    "t1 = (2,36,45,78,95,41,25,25)\n",
    "print(\"Slice\",t1[3:6])\n",
    "# Count Function\n",
    "print(\"Size\",len(t1))\n",
    "# Min Max\n",
    "print(\"Min\",min(t1))\n",
    "print(\"Max\",max(t1))"
   ]
  },
  {
   "cell_type": "code",
   "execution_count": 31,
   "metadata": {},
   "outputs": [
    {
     "name": "stdout",
     "output_type": "stream",
     "text": [
      "(1,) (2,)\n"
     ]
    }
   ],
   "source": [
    "def swap(x,y):\n",
    "    x,y = y,x\n",
    "a = (1,)\n",
    "b = (2,)\n",
    "swap(a,b)\n",
    "print(a,b)"
   ]
  },
  {
   "cell_type": "code",
   "execution_count": 32,
   "metadata": {},
   "outputs": [
    {
     "name": "stdout",
     "output_type": "stream",
     "text": [
      "2085409583552\n",
      "2085409887360\n"
     ]
    }
   ],
   "source": [
    "def mydemo(v):\n",
    "    print(id(v))\n",
    "    return v[2:]\n",
    "w = mydemo([1,2,3,4])\n",
    "type(w)\n",
    "print(id(w))"
   ]
  }
 ],
 "metadata": {
  "interpreter": {
   "hash": "3df1da5a001643c52532ecdada6e89843ccc0e6cdc890101982cbbd5276e2735"
  },
  "kernelspec": {
   "display_name": "Python 3.9.0 64-bit",
   "language": "python",
   "name": "python3"
  },
  "language_info": {
   "codemirror_mode": {
    "name": "ipython",
    "version": 3
   },
   "file_extension": ".py",
   "mimetype": "text/x-python",
   "name": "python",
   "nbconvert_exporter": "python",
   "pygments_lexer": "ipython3",
   "version": "3.9.0"
  },
  "orig_nbformat": 4
 },
 "nbformat": 4,
 "nbformat_minor": 2
}
