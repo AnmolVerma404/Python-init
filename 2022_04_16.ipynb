{
 "cells": [
  {
   "cell_type": "markdown",
   "metadata": {},
   "source": [
    "Write a program to demonstrate the use of class abstraction and encapsulation"
   ]
  },
  {
   "cell_type": "code",
   "execution_count": null,
   "metadata": {},
   "outputs": [],
   "source": [
    "# By default python does not provide abstraction therefor we have to import abc in abc we have ABC i.e. Abstract Base Class"
   ]
  },
  {
   "cell_type": "code",
   "execution_count": 5,
   "metadata": {},
   "outputs": [
    {
     "name": "stdout",
     "output_type": "stream",
     "text": [
      "a 2\n",
      "b 3\n"
     ]
    },
    {
     "data": {
      "text/plain": [
       "2"
      ]
     },
     "execution_count": 5,
     "metadata": {},
     "output_type": "execute_result"
    }
   ],
   "source": [
    "# data encapsulation\n",
    "\n",
    "class Base:\n",
    "    def __init__(self):\n",
    "        self._a = 2\n",
    "class Derived(Base):\n",
    "    def __init__(self):\n",
    "        Base.__init__(self)\n",
    "        print(\"a\",self._a)\n",
    "        self._a = 3\n",
    "        print(\"b\",self._a)\n",
    "\n",
    "obj1 = Base()\n",
    "obj2 = Derived()\n",
    "\n",
    "obj1._a\n",
    "# print(obj2._a)\n"
   ]
  }
 ],
 "metadata": {
  "interpreter": {
   "hash": "3df1da5a001643c52532ecdada6e89843ccc0e6cdc890101982cbbd5276e2735"
  },
  "kernelspec": {
   "display_name": "Python 3.9.0 64-bit",
   "language": "python",
   "name": "python3"
  },
  "language_info": {
   "codemirror_mode": {
    "name": "ipython",
    "version": 3
   },
   "file_extension": ".py",
   "mimetype": "text/x-python",
   "name": "python",
   "nbconvert_exporter": "python",
   "pygments_lexer": "ipython3",
   "version": "3.9.0"
  },
  "orig_nbformat": 4
 },
 "nbformat": 4,
 "nbformat_minor": 2
}
