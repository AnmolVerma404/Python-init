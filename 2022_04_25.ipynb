{
 "cells": [
  {
   "cell_type": "markdown",
   "metadata": {},
   "source": [
    "# GUI in Python\n",
    "## Tkinter widgets\n",
    "Create a GUI using Tkinter module"
   ]
  },
  {
   "cell_type": "code",
   "execution_count": null,
   "metadata": {},
   "outputs": [],
   "source": [
    "import tkinter\n",
    "myBox = tkinter.Tk()\n",
    "myBox.geometry('400x200')\n",
    "myBox.configure(bg='red')\n",
    "myBox.title(\"This is a window\")\n",
    "tkinter.mainloop()"
   ]
  },
  {
   "cell_type": "code",
   "execution_count": null,
   "metadata": {},
   "outputs": [],
   "source": [
    "# A program to add a button into a window\n",
    "import tkinter\n",
    "myBox = tkinter.Tk()\n",
    "myBox.geometry('400x200')\n",
    "# myBox.configure()\n",
    "myBox.title(\"This is a window\")\n",
    "# bg = background color, fg = foreground color\n",
    "myb1 = tkinter.Button(myBox,text=\"Button 1\",bg='blue',fg='yellow').pack(side='left')\n",
    "myb2 = tkinter.Button(myBox,text=\"Button 2\",bg='purple',fg='pink').pack(side='top')\n",
    "myb3 = tkinter.Button(myBox,text=\"Button 3\",bg='red',fg='yellow').pack(side='right')\n",
    "myb4 = tkinter.Button(myBox,text=\"Button 4\",bg='orange',fg='blue').pack(side='bottom')\n",
    "tkinter.mainloop()"
   ]
  },
  {
   "cell_type": "code",
   "execution_count": null,
   "metadata": {},
   "outputs": [],
   "source": [
    "# Define a function that will allow to print a text onclick of a button\n",
    "import tkinter\n",
    "myBox = tkinter.Tk()\n",
    "myBox.geometry('400x200')\n",
    "myBox.title(\"This is a window\")\n",
    "def bfun():\n",
    "    tkinter.Label(myBox,text=\"You have clicked the Button, thanks\").pack()\n",
    "myb = tkinter.Button(myBox,text=\"Click me\",bg='blue',fg='yellow',command=bfun).pack(side='left')\n",
    "tkinter.mainloop()"
   ]
  },
  {
   "cell_type": "code",
   "execution_count": null,
   "metadata": {},
   "outputs": [],
   "source": [
    "from tkinter import *\n",
    "myw = Tk()\n",
    "myw.geometry('300x300')\n",
    "Label(myw, text=\"User id\").grid(row=0)\n",
    "Label(myw, text=\"Password\").grid(row=1)\n",
    "t1 = Entry(myw)\n",
    "t2 = Entry(myw)\n",
    "t1.grid(row=0, column=1)\n",
    "t2.grid(row=1, column=1)\n",
    "mainloop()"
   ]
  },
  {
   "cell_type": "code",
   "execution_count": null,
   "metadata": {},
   "outputs": [],
   "source": [
    "from tkinter import messagebox\n",
    "messagebox.showinfo('Title','A tk messagebox')"
   ]
  },
  {
   "cell_type": "code",
   "execution_count": 1,
   "metadata": {},
   "outputs": [],
   "source": [
    "import tkinter\n",
    "from tkinter import messagebox\n",
    "root = tkinter.Tk()\n",
    "root.withdraw()\n",
    "\n",
    "messagebox.showerror(\"Error\",\"Error message\")\n",
    "messagebox.showwarning(\"Warning\",\"Warning message\")\n",
    "messagebox.showinfo(\"Information\",\"Information message\")\n",
    "root.mainloop()"
   ]
  }
 ],
 "metadata": {
  "interpreter": {
   "hash": "3df1da5a001643c52532ecdada6e89843ccc0e6cdc890101982cbbd5276e2735"
  },
  "kernelspec": {
   "display_name": "Python 3.9.0 64-bit",
   "language": "python",
   "name": "python3"
  },
  "language_info": {
   "codemirror_mode": {
    "name": "ipython",
    "version": 3
   },
   "file_extension": ".py",
   "mimetype": "text/x-python",
   "name": "python",
   "nbconvert_exporter": "python",
   "pygments_lexer": "ipython3",
   "version": "3.9.0"
  },
  "orig_nbformat": 4
 },
 "nbformat": 4,
 "nbformat_minor": 2
}
