{
 "cells": [
  {
   "cell_type": "markdown",
   "metadata": {},
   "source": [
    "# Function\n",
    "**A function will always have a name, argument and a return value**\n",
    "### 1. Built in \n",
    "### 2. User Define\n"
   ]
  },
  {
   "cell_type": "code",
   "execution_count": null,
   "metadata": {},
   "outputs": [],
   "source": [
    "print(type(\"23\"))\n",
    "print(type(23.1))\n",
    "# print(type(a)) #Error; as a is not define\n",
    "print(type(10))"
   ]
  },
  {
   "cell_type": "code",
   "execution_count": null,
   "metadata": {},
   "outputs": [],
   "source": [
    "print(id(3))\n",
    "betty = 3\n",
    "id(betty)"
   ]
  },
  {
   "cell_type": "markdown",
   "metadata": {},
   "source": [
    "# Type Conversion\n",
    "* Is's a built in function that convert one value of data type to another daa type*"
   ]
  },
  {
   "cell_type": "code",
   "execution_count": null,
   "metadata": {},
   "outputs": [],
   "source": [
    "print(int('32'))\n",
    "# int('Hello') #Error\n",
    "print(int(3.99999))\n",
    "print(int(-2.3))\n",
    "\n",
    "print(float(32))\n",
    "print(float(\"3.14159\"))\n",
    "# print(float(\"vellore\")) #Error\n",
    "\n",
    "print(str(32))\n",
    "print(str(3.14149))"
   ]
  },
  {
   "cell_type": "markdown",
   "metadata": {},
   "source": [
    "Q) Write a program to take a integer and a float value as an input from the user convert them into string first and then multiply the integer converted value with 3 and float converted value 10?"
   ]
  },
  {
   "cell_type": "code",
   "execution_count": null,
   "metadata": {},
   "outputs": [],
   "source": [
    "intNum = int(input(\"Enter the number\"))\n",
    "floatNum = float(input(\"Enter the number\"))\n",
    "strInt = str(intNum)\n",
    "strFloat = str(floatNum)\n",
    "print(3*strInt)\n",
    "print(10*strFloat)"
   ]
  },
  {
   "cell_type": "markdown",
   "metadata": {},
   "source": [
    "# Type Coercion\n",
    "Rules for automatic type conversion is know as Type coercion"
   ]
  },
  {
   "cell_type": "code",
   "execution_count": null,
   "metadata": {},
   "outputs": [],
   "source": [
    "minute = 59\n",
    "minute = minute/60.0\n",
    "print(minute)"
   ]
  },
  {
   "cell_type": "markdown",
   "metadata": {},
   "source": [
    "# Modules \n",
    "Collection of similar function/programs\n",
    "## Math Functions\n",
    "This module is a collection of all the maths operation avalible in python for user to use to perform various calculations\n",
    "To use a module and it's in-build function -> <module_name>.<function(<argument>)> Eg:- math.ceil(3.4)"
   ]
  },
  {
   "cell_type": "code",
   "execution_count": null,
   "metadata": {},
   "outputs": [],
   "source": [
    "import math\n",
    "print(math.ceil(3.4))\n",
    "print(math.floor(3.4))\n",
    "x = math.exp(math.log(10.0))\n",
    "print(x)"
   ]
  },
  {
   "cell_type": "markdown",
   "metadata": {},
   "source": [
    "# User define Function\n",
    "They are defined by -> def <function_name>(<parameter>):\n",
    "                            <statement>"
   ]
  },
  {
   "cell_type": "code",
   "execution_count": null,
   "metadata": {},
   "outputs": [],
   "source": [
    "def call():\n",
    "    print()\n",
    "print(\"Welcome\")\n",
    "call()\n",
    "print(\"How are you?\")"
   ]
  },
  {
   "cell_type": "markdown",
   "metadata": {},
   "source": [
    "Q) What is a difference between a parameter and an arguments\n",
    "Sol)Parameter -> variable listed inside the parentheses in the function definition\n",
    "Argument -> value that are sent to the function when it is called"
   ]
  }
 ],
 "metadata": {
  "interpreter": {
   "hash": "3df1da5a001643c52532ecdada6e89843ccc0e6cdc890101982cbbd5276e2735"
  },
  "kernelspec": {
   "display_name": "Python 3.9.0 64-bit",
   "language": "python",
   "name": "python3"
  },
  "language_info": {
   "codemirror_mode": {
    "name": "ipython",
    "version": 3
   },
   "file_extension": ".py",
   "mimetype": "text/x-python",
   "name": "python",
   "nbconvert_exporter": "python",
   "pygments_lexer": "ipython3",
   "version": "3.9.0"
  },
  "orig_nbformat": 4
 },
 "nbformat": 4,
 "nbformat_minor": 2
}
