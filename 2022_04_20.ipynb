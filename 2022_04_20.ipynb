{
 "cells": [
  {
   "cell_type": "markdown",
   "metadata": {},
   "source": [
    "What do you understand by pickling and unpickling?"
   ]
  },
  {
   "cell_type": "markdown",
   "metadata": {},
   "source": [
    "# Exceptions in python\n",
    "Whenever a runtime error occur, it creat an exception.\n",
    "## Two types of error\n",
    "- Runtime error\n",
    "- Compile time error"
   ]
  },
  {
   "cell_type": "code",
   "execution_count": null,
   "metadata": {},
   "outputs": [],
   "source": [
    "# print(55/0) # ZeroDivisionError: division by zero\n",
    "a = []\n",
    "# print(a[5]) # IndexError: list index out of range\n",
    "b = {}\n",
    "# print(b['what']) # KeyError: 'what'\n",
    "f = open(\"idontexist\",\"r\") # FileNotFoundError: [Errno 2] No such file or directory: 'idontexist'"
   ]
  },
  {
   "cell_type": "code",
   "execution_count": null,
   "metadata": {},
   "outputs": [],
   "source": [
    "# Syntax\n",
    "try:\n",
    "    pass\n",
    "except:\n",
    "    pass\n",
    "else:\n",
    "    pass\n",
    "finally:\n",
    "    pass"
   ]
  },
  {
   "cell_type": "code",
   "execution_count": 10,
   "metadata": {},
   "outputs": [
    {
     "name": "stdout",
     "output_type": "stream",
     "text": [
      "Division by zero\n",
      "Program still executing\n"
     ]
    }
   ],
   "source": [
    "x,y = 5,0\n",
    "try:\n",
    "    x/y\n",
    "except:\n",
    "    print(\"Division by zero\")\n",
    "print(\"Program still executing\")"
   ]
  },
  {
   "cell_type": "code",
   "execution_count": 13,
   "metadata": {},
   "outputs": [
    {
     "name": "stdout",
     "output_type": "stream",
     "text": [
      "a\n",
      "File not found\n",
      "[Errno 2] No such file or directory: 'noMoretxt'\n"
     ]
    }
   ],
   "source": [
    "try:\n",
    "    f = open(\"noMoretxt\")\n",
    "except FileNotFoundError as msg:\n",
    "    print(\"File not found\")\n",
    "    print(msg)"
   ]
  },
  {
   "cell_type": "code",
   "execution_count": 17,
   "metadata": {},
   "outputs": [
    {
     "name": "stdout",
     "output_type": "stream",
     "text": [
      "Data from file\n",
      "Anmol, Welcome to university.\n",
      "Hi\n",
      "Hi\n",
      "Hi\n",
      "Hi\n",
      "Hi\n",
      "Hi\n",
      "Hi\n",
      "Hi\n",
      "I am going to close file\n"
     ]
    }
   ],
   "source": [
    "try:\n",
    "    f = open(\"File.txt\")\n",
    "except FileNotFoundError as msg:\n",
    "    print(msg)\n",
    "try:\n",
    "    pass\n",
    "except:\n",
    "    pass\n",
    "else:\n",
    "    print(\"Data from file\")\n",
    "    print(f.read())\n",
    "finally:\n",
    "    print(\"I am going to close file\")\n",
    "    f.close()"
   ]
  },
  {
   "cell_type": "code",
   "execution_count": 18,
   "metadata": {},
   "outputs": [
    {
     "name": "stdout",
     "output_type": "stream",
     "text": [
      "This error is created my VIT, I am not responsible\n"
     ]
    }
   ],
   "source": [
    "# raise\n",
    "# if you want to create your own error\n",
    "class myError(Exception):\n",
    "    pass\n",
    "try:\n",
    "    raise myError(\"This error is created my him, I am not responsible\")\n",
    "except myError as msg:\n",
    "    print(msg)"
   ]
  },
  {
   "cell_type": "code",
   "execution_count": 21,
   "metadata": {},
   "outputs": [
    {
     "name": "stdout",
     "output_type": "stream",
     "text": [
      "This statement is false\n"
     ]
    }
   ],
   "source": [
    "x,y = 5,6\n",
    "try:\n",
    "    assert (x == y), \"This statement is false\"\n",
    "except AssertionError as msg:\n",
    "    print(msg)"
   ]
  }
 ],
 "metadata": {
  "interpreter": {
   "hash": "3df1da5a001643c52532ecdada6e89843ccc0e6cdc890101982cbbd5276e2735"
  },
  "kernelspec": {
   "display_name": "Python 3.9.0 64-bit",
   "language": "python",
   "name": "python3"
  },
  "language_info": {
   "codemirror_mode": {
    "name": "ipython",
    "version": 3
   },
   "file_extension": ".py",
   "mimetype": "text/x-python",
   "name": "python",
   "nbconvert_exporter": "python",
   "pygments_lexer": "ipython3",
   "version": "3.9.0"
  },
  "orig_nbformat": 4
 },
 "nbformat": 4,
 "nbformat_minor": 2
}
