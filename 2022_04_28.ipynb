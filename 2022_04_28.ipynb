{
 "cells": [
  {
   "cell_type": "markdown",
   "metadata": {},
   "source": [
    "## Sockket Programming\n",
    "It is the real backbones behind web browsing. In simpler terms, there is a server and a client. \n",
    "\n",
    "## Multithreading and Multitasking\n",
    "## CGI"
   ]
  },
  {
   "cell_type": "markdown",
   "metadata": {},
   "source": []
  }
 ],
 "metadata": {
  "language_info": {
   "name": "python"
  },
  "orig_nbformat": 4
 },
 "nbformat": 4,
 "nbformat_minor": 2
}
