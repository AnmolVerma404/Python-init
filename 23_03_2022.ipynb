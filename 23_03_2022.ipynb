{
 "cells": [
  {
   "cell_type": "markdown",
   "metadata": {},
   "source": [
    "1 Write a password guessing program to keep track of how many times the user has entered the password wrong. If it is more than 3 times , print \"You have been denied access\" and terminated the program if the password is correct print \"You have successfully logged in\" and terminate the progam"
   ]
  },
  {
   "cell_type": "code",
   "execution_count": null,
   "metadata": {},
   "outputs": [],
   "source": [
    "currPassword = \"1234\"\n",
    "wrongAttempt = 0\n",
    "while(wrongAttempt<3):\n",
    "    str = input(\"Enter password: \")\n",
    "    if(str==currPassword):\n",
    "        print(\"You have successfully logged in\")\n",
    "        break\n",
    "    wrongAttempt+=1\n",
    "if(wrongAttempt>=3):\n",
    "    print(\"You have been denied access\")"
   ]
  },
  {
   "cell_type": "markdown",
   "metadata": {},
   "source": [
    "2 Write a program that asks for two numbers if the sum of the numbers is greater than 100 print \"that is a big number\" and terminate the program"
   ]
  },
  {
   "cell_type": "code",
   "execution_count": null,
   "metadata": {},
   "outputs": [],
   "source": [
    "num1 = int(input(\"Enter the first number: \"))\n",
    "num2 = int(input(\"Enter the second number: \"))\n",
    "if(num1+num2>100):\n",
    "    print(\"That is a big number\")"
   ]
  },
  {
   "cell_type": "markdown",
   "metadata": {},
   "source": [
    "3 Write a python program that accepts a number from the user and reverse it"
   ]
  },
  {
   "cell_type": "code",
   "execution_count": null,
   "metadata": {},
   "outputs": [],
   "source": []
  },
  {
   "cell_type": "markdown",
   "metadata": {},
   "source": [
    "4 Write a python program to find those numbers which are divisible by 7 and multiples of 5 between 1500 and 2700"
   ]
  },
  {
   "cell_type": "code",
   "execution_count": null,
   "metadata": {},
   "outputs": [],
   "source": [
    "for i in range(1500,2701):\n",
    "    if(i%7==0 and i%5==0):\n",
    "        print(i)"
   ]
  },
  {
   "cell_type": "markdown",
   "metadata": {},
   "source": [
    "5 Write a python program to get the fibonacci series between 0 to 50"
   ]
  },
  {
   "cell_type": "markdown",
   "metadata": {},
   "source": [
    "6 Write a python program which iterates the integers from 1 to 50 For multiples of the three Print \"Fizz\" instead of the number and for the multiples of five print \"Buzz\" For numbers which are multiples of both three and five print \"FizzBuzz\""
   ]
  },
  {
   "cell_type": "code",
   "execution_count": null,
   "metadata": {},
   "outputs": [],
   "source": [
    "for i in range(1,51):\n",
    "    if(i%3==0 and i%5==0):\n",
    "        print(\"FizzBuzz\")\n",
    "    elif(i%3==0):\n",
    "        print(\"Fizz\")\n",
    "    elif(i%5==0):\n",
    "        print(\"Buzz\")\n",
    "    else:\n",
    "        print(i)\n"
   ]
  },
  {
   "cell_type": "markdown",
   "metadata": {},
   "source": [
    "7 Write a python program to print alphabet pattern \"A\""
   ]
  },
  {
   "cell_type": "markdown",
   "metadata": {},
   "source": [
    "8 Write a python program to print alphabet pattern \"D\""
   ]
  },
  {
   "cell_type": "markdown",
   "metadata": {},
   "source": [
    "9 Write a python program to check whether an alphabet is a vowel or consonant"
   ]
  },
  {
   "cell_type": "code",
   "execution_count": null,
   "metadata": {},
   "outputs": [],
   "source": [
    "char = input(\"Enter an alphabet\")\n",
    "if(char=='a' or char=='e' or char=='i' or char=='o' or char=='u'):\n",
    "    print(\"vowel\")\n",
    "else:\n",
    "    print(\"consonant\")"
   ]
  },
  {
   "cell_type": "markdown",
   "metadata": {},
   "source": [
    "10 Write a python program to check a triengle is equilateral, isosceles or scalene. Note: An enuilateral triengle is a triangle in which all the three sides are equal. A scalene triengle is a triengle that thas three unequal sides. An isosceles triengle is a triengle which has al  least two equal sides"
   ]
  },
  {
   "cell_type": "code",
   "execution_count": null,
   "metadata": {},
   "outputs": [],
   "source": [
    "firstSide = int(input(\"Enter first side\"))\n",
    "secondSide = int(input(\"Enter second side\"))\n",
    "thirdSide = int(input(\"Enter third side\"))\n",
    "if(firstSide==secondSide==thirdSide):\n",
    "    print(\"equilateral\")\n",
    "elif(firstSide==secondSide or firstSide==thirdSide or secondSide==thirdSide):\n",
    "    print(\"isosceles\")\n",
    "else:\n",
    "    print(\"scalene\")\n"
   ]
  }
 ],
 "metadata": {
  "interpreter": {
   "hash": "3df1da5a001643c52532ecdada6e89843ccc0e6cdc890101982cbbd5276e2735"
  },
  "kernelspec": {
   "display_name": "Python 3.9.0 64-bit",
   "language": "python",
   "name": "python3"
  },
  "language_info": {
   "codemirror_mode": {
    "name": "ipython",
    "version": 3
   },
   "file_extension": ".py",
   "mimetype": "text/x-python",
   "name": "python",
   "nbconvert_exporter": "python",
   "pygments_lexer": "ipython3",
   "version": "3.9.0"
  },
  "orig_nbformat": 4
 },
 "nbformat": 4,
 "nbformat_minor": 2
}
