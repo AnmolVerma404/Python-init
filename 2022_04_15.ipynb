{
 "cells": [
  {
   "cell_type": "markdown",
   "metadata": {},
   "source": [
    "    Write a program in python to demonstrate the use of polymorphism and operator overloading with example"
   ]
  },
  {
   "cell_type": "code",
   "execution_count": 8,
   "metadata": {},
   "outputs": [
    {
     "name": "stdout",
     "output_type": "stream",
     "text": [
      "5\n",
      "4\n",
      "6\n",
      "abc\n",
      "Vegetable\n",
      "Red\n",
      "Fruit\n",
      "Red\n"
     ]
    }
   ],
   "source": [
    "# Polymorphism is already present in python Eg -\n",
    "print(len([1, 12, 123, 1234, 12345]))\n",
    "print(len(\"Abcd\"))\n",
    "\n",
    "\n",
    "def add(a, b, c):\n",
    "    return a+b+c\n",
    "\n",
    "\n",
    "print(add(1, 2, 3))\n",
    "print(add('a', 'b', 'c'))\n",
    "\n",
    "\n",
    "class Tomato():\n",
    "    def type(self):\n",
    "        print(\"Vegetable\")\n",
    "\n",
    "    def color(self):\n",
    "        print(\"Red\")\n",
    "\n",
    "\n",
    "class Apple():\n",
    "    def type(self):\n",
    "        print(\"Fruit\")\n",
    "\n",
    "    def color(self):\n",
    "        print(\"Red\")\n",
    "\n",
    "\n",
    "def func(obj):\n",
    "    obj.type()\n",
    "    obj.color()\n",
    "\n",
    "\n",
    "obj_tomato = Tomato()\n",
    "obj_apple = Apple()\n",
    "func(obj_tomato)\n",
    "func(obj_apple)\n"
   ]
  },
  {
   "cell_type": "code",
   "execution_count": 13,
   "metadata": {},
   "outputs": [
    {
     "name": "stdout",
     "output_type": "stream",
     "text": [
      "3\n",
      "AB\n",
      "AA\n",
      "3\n",
      "GeeksFor\n"
     ]
    }
   ],
   "source": [
    "# Operator overloading\n",
    "\n",
    "# Python program to show use of\n",
    "# + operator for different purposes.\n",
    "print(1 + 2)\n",
    "# concatenate two strings\n",
    "print(\"A\"+\"B\")\n",
    "# Repeat the String\n",
    "print(\"A\"*2)\n",
    "\n",
    "# Python Program illustrate how\n",
    "# to overload an binary + operator\n",
    "class A:\n",
    "\tdef __init__(self, a):\n",
    "\t\tself.a = a\n",
    "\n",
    "\t# adding two objects\n",
    "\tdef __add__(self, o):\n",
    "\t\treturn self.a + o.a\n",
    "ob1 = A(1)\n",
    "ob2 = A(2)\n",
    "ob3 = A(\"Geeks\")\n",
    "ob4 = A(\"For\")\n",
    "\n",
    "print(ob1 + ob2)\n",
    "print(ob3 + ob4)\n",
    "\n"
   ]
  }
 ],
 "metadata": {
  "interpreter": {
   "hash": "3df1da5a001643c52532ecdada6e89843ccc0e6cdc890101982cbbd5276e2735"
  },
  "kernelspec": {
   "display_name": "Python 3.9.0 64-bit",
   "language": "python",
   "name": "python3"
  },
  "language_info": {
   "codemirror_mode": {
    "name": "ipython",
    "version": 3
   },
   "file_extension": ".py",
   "mimetype": "text/x-python",
   "name": "python",
   "nbconvert_exporter": "python",
   "pygments_lexer": "ipython3",
   "version": "3.9.0"
  },
  "orig_nbformat": 4
 },
 "nbformat": 4,
 "nbformat_minor": 2
}
