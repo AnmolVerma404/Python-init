{
 "cells": [
  {
   "cell_type": "markdown",
   "metadata": {},
   "source": [
    "# Canvas"
   ]
  },
  {
   "cell_type": "code",
   "execution_count": 2,
   "metadata": {},
   "outputs": [],
   "source": [
    "from tkinter import *\n",
    "myw = Tk()\n",
    "myw.geometry('300x300')\n",
    "myc = Canvas(myw,width=200,height=200,bg='yellow')\n",
    "myarc = myc.create_arc(10,10,150,110,start=0,extent=300,fill='red',outline='green',width=10)\n",
    "myc.place(relx=.1,rely=.1)\n",
    "mainloop()"
   ]
  },
  {
   "cell_type": "code",
   "execution_count": 13,
   "metadata": {},
   "outputs": [],
   "source": [
    "from tkinter import *\n",
    "myw = Tk()\n",
    "myw.geometry('500x200')\n",
    "myw.configure(bg='yellow')\n",
    "myw.title(\"Example for Frame Widget\")\n",
    "leftFrame = Frame(myw,height=100,width=200,bg='red')\n",
    "leftFrame.place(x=10,y=10)\n",
    "myw.title(\"Example for Frame Widget\")\n",
    "rightFrame = Frame(myw,height=100,width=200,bg='green')\n",
    "rightFrame.place(x=220,y=10)\n",
    "l1 = Label(leftFrame,text='Label 1')\n",
    "l1.place(x=10,y=10)\n",
    "l2 = Label(rightFrame,text='Label 2')\n",
    "l2.place(x=10,y=10)\n",
    "l3 = Label(rightFrame,text='Label 3')\n",
    "l3.place(x=10,y=50)\n",
    "mainloop()"
   ]
  },
  {
   "cell_type": "code",
   "execution_count": 14,
   "metadata": {},
   "outputs": [],
   "source": [
    "from tkinter import * \n",
    "myw = Tk()\n",
    "myw.geometry('300x200')\n",
    "myw.configure(bg='yellow')\n",
    "myw.title(\"Example for Frame Widget\")\n",
    "mylst = Listbox(myw)\n",
    "mylst.grid(row = 0)\n",
    "mylst.insert(0,'Delhi')\n",
    "mylst.insert(1,'Bombay')\n",
    "mylst.insert(2,'Jalandhar')\n",
    "mylst.insert(3,'Pune')\n",
    "mylst.insert(END,'Goa')\n",
    "Label(myw,text='Enter index to delete').grid(row=0,column=1)\n",
    "e1 = Entry(myw,width=5)\n",
    "e1.grid(row = 0,column=2)\n",
    "def mydel():\n",
    "    mylst.delete(int(e1.get()))\n",
    "Button(myw,text='Delete',command=mydel).grid(row=1,column=1)\n",
    "mainloop()"
   ]
  },
  {
   "cell_type": "code",
   "execution_count": 25,
   "metadata": {},
   "outputs": [],
   "source": [
    "from tkinter import * \n",
    "myw = Tk()\n",
    "myw.geometry('500x300')\n",
    "myw.configure(bg='blue')\n",
    "myw.title(\"Login Page\")\n",
    "frame = Frame(myw,height=250,width=250,bg='yellow')\n",
    "frame.place(x=120,y=10)\n",
    "l1 = Label(frame,text='Username')\n",
    "e1 = Entry(frame).grid(row=1,column=1)\n",
    "# Label(frame,text='Username').grid(row=0,column=0)\n",
    "# e1 = Entry(frame,width=20)\n",
    "# e1.grid(row = 1,column=2)\n",
    "# l2 = Label(frame,text='Password')\n",
    "# l2.place(x=20,y=40)\n",
    "# e2 = Entry(frame,width=20)\n",
    "# e2.grid(row = 1,column=2)\n",
    "# def func():\n",
    "#     pass\n",
    "# Button(frame,text='Submit',command=func).grid(row=3,column=3)\n",
    "mainloop()"
   ]
  }
 ],
 "metadata": {
  "interpreter": {
   "hash": "a97aaf25270a684f90958810f3ee49c86670ff0c45d6f13555a60ba5756243ac"
  },
  "kernelspec": {
   "display_name": "Python 3.9.0 64-bit",
   "language": "python",
   "name": "python3"
  },
  "language_info": {
   "codemirror_mode": {
    "name": "ipython",
    "version": 3
   },
   "file_extension": ".py",
   "mimetype": "text/x-python",
   "name": "python",
   "nbconvert_exporter": "python",
   "pygments_lexer": "ipython3",
   "version": "3.9.0"
  },
  "orig_nbformat": 4
 },
 "nbformat": 4,
 "nbformat_minor": 2
}
