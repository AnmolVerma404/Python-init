{
 "cells": [
  {
   "cell_type": "code",
   "execution_count": null,
   "metadata": {},
   "outputs": [],
   "source": [
    "# Write a program in python to implement binary search algorithm\n",
    "# list1 = [1,2,3,4,5,6,7]\n",
    "def bSearch(list1,start,end,target):\n",
    "    while start<=end:\n",
    "        mid = start + (end - start)//2\n",
    "        if list1[mid] == target:\n",
    "            print(\"Found:\",target)\n",
    "            break\n",
    "        elif list1[mid]<target:\n",
    "            start = mid + 1\n",
    "        else:\n",
    "            end = mid -1\n",
    "list1 = [1,2,3,4,5,6,7,8,9,10,11,12,13]\n",
    "start,end = 0,7\n",
    "target = 4\n",
    "bSearch(list1,start,end,target)\n",
    "print(\"End\")"
   ]
  },
  {
   "cell_type": "code",
   "execution_count": null,
   "metadata": {},
   "outputs": [],
   "source": [
    "# To compute polynomial equation\n",
    "# A general quadratic equation\n",
    "import cmath\n",
    "print(\"General quadratic euqation: ax^2 + bx + c\")\n",
    "# Root -> (-b ± underroot(b^2-4ac))/2a\n",
    "a = int(input(\"Enter value of a\"))\n",
    "b = int(input(\"Enter value of b\"))\n",
    "c = int(input(\"Enter value of c\"))\n",
    "uRoot = cmath.sqrt(b**2 - 4*a*c)\n",
    "root1 = ((-b) + uRoot)/2*a\n",
    "root2 = ((-b) - uRoot)/2*a\n",
    "print(root1,root2)\n"
   ]
  },
  {
   "cell_type": "code",
   "execution_count": null,
   "metadata": {},
   "outputs": [],
   "source": [
    "# Find the sum of the series 1/1! + 1/2! + 1/3! + ..... + 1/N!\n",
    "n = int(input(\"Enter the value of n: \"))\n",
    "sum = 0\n",
    "for i in range(n+1):\n",
    "    fact = 1\n",
    "    for j in range(1,i):\n",
    "        fact *=i\n",
    "    sum+=1/fact\n",
    "print(\"The sum of the given series is: \",sum)\n",
    "    "
   ]
  },
  {
   "cell_type": "code",
   "execution_count": null,
   "metadata": {},
   "outputs": [],
   "source": [
    "# To generate a random number\n",
    "from random import randint\n",
    "randNo = randint(0,100)\n",
    "print(randNo)"
   ]
  },
  {
   "cell_type": "code",
   "execution_count": 1,
   "metadata": {},
   "outputs": [
    {
     "name": "stdout",
     "output_type": "stream",
     "text": [
      "{0: 1, 1: 2, 2: 3, 3: 4}\n",
      "[[1, 'a'], [2, 'b'], [3, 'c']]\n",
      "[1, 2, 3, 4]\n",
      "()\n",
      "['A', 'n', 'm', 'o', 'l']\n",
      "\n"
     ]
    }
   ],
   "source": [
    "# Convert \n",
    "# list to dictionary\n",
    "list1 = [1,2,3,4]\n",
    "dict1 = {}\n",
    "for l in list1:\n",
    "    dict1.update({list1.index(l):l})\n",
    "print(dict1)\n",
    "# Dict. to list\n",
    "dict2 = {1:'a',2:'b',3:'c'}\n",
    "list2 = []\n",
    "for k,v in dict2.items():\n",
    "    tempList = []\n",
    "    tempList.append(k)\n",
    "    tempList.append(v)\n",
    "    list2.append(tempList)\n",
    "print(list2)\n",
    "# tuple to list\n",
    "tuple3 = (1,2,3,4)\n",
    "list3 = []\n",
    "for t in tuple3:\n",
    "    list3.append(t)\n",
    "print(list3)\n",
    "# list to tuple\n",
    "tuple4 = ()\n",
    "list4 = [1,2,3,4]\n",
    "for l in list4:\n",
    "    # tuple4\n",
    "    # tuples are immutable\n",
    "    pass\n",
    "print(tuple4)\n",
    "# string to list\n",
    "string5 = \"Anmol\"\n",
    "list5 = []\n",
    "for c in string5:\n",
    "    list5.append(c)\n",
    "print(list5)\n",
    "# list to string\n",
    "string6 = \"\"\n",
    "list6 = []\n",
    "for l in list6:\n",
    "    # string5+=l\n",
    "    # String are immutable\n",
    "    pass\n",
    "print(string6)"
   ]
  }
 ],
 "metadata": {
  "interpreter": {
   "hash": "3df1da5a001643c52532ecdada6e89843ccc0e6cdc890101982cbbd5276e2735"
  },
  "kernelspec": {
   "display_name": "Python 3.9.0 64-bit",
   "language": "python",
   "name": "python3"
  },
  "language_info": {
   "codemirror_mode": {
    "name": "ipython",
    "version": 3
   },
   "file_extension": ".py",
   "mimetype": "text/x-python",
   "name": "python",
   "nbconvert_exporter": "python",
   "pygments_lexer": "ipython3",
   "version": "3.9.0"
  },
  "orig_nbformat": 4
 },
 "nbformat": 4,
 "nbformat_minor": 2
}
