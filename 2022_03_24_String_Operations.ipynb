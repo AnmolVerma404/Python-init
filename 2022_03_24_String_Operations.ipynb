{
 "cells": [
  {
   "cell_type": "markdown",
   "metadata": {},
   "source": [
    "Simple and compound\n",
    "Simple contain only one type of data type and compound data type contain multiple eg: int and characters\n",
    "Index start with 0 in python and there is also negative indexing starting from -1 at last index\n",
    "Length of strings"
   ]
  },
  {
   "cell_type": "code",
   "execution_count": null,
   "metadata": {},
   "outputs": [],
   "source": [
    "fruit = \"apple\"\n",
    "length = len(fruit)\n",
    "print(length)"
   ]
  },
  {
   "cell_type": "markdown",
   "metadata": {},
   "source": [
    "String Slices :  a[n,m]\n",
    "where a is the string n is the starting and m is the end index"
   ]
  },
  {
   "cell_type": "code",
   "execution_count": null,
   "metadata": {},
   "outputs": [],
   "source": [
    "str = \"Peter, Paul, and Mary\"\n",
    "print(str[0:5])\n",
    "print(str[7:11])\n",
    "print(str[17:21])\n",
    "print(str[2:3])\n",
    "print(str[:3])\n",
    "print(str[3:])\n",
    "print(str[:])"
   ]
  },
  {
   "cell_type": "markdown",
   "metadata": {},
   "source": [
    "String Comparision"
   ]
  },
  {
   "cell_type": "code",
   "execution_count": null,
   "metadata": {},
   "outputs": [],
   "source": [
    "print(\"banana\"==\"banana\")\n",
    "print(\"apple\">=\"banana\")"
   ]
  },
  {
   "cell_type": "markdown",
   "metadata": {},
   "source": [
    "String are immutable"
   ]
  },
  {
   "cell_type": "code",
   "execution_count": null,
   "metadata": {},
   "outputs": [],
   "source": [
    "str = \"Hello, World!\"\n",
    "# str[0] = 'J' #Error\n",
    "name = \"\"\n",
    "name = \"Anmol\"\n",
    "# name[2] = \"b\" #Error\n",
    "print(name)"
   ]
  },
  {
   "cell_type": "markdown",
   "metadata": {},
   "source": [
    "Find function in string"
   ]
  },
  {
   "cell_type": "code",
   "execution_count": 23,
   "metadata": {},
   "outputs": [
    {
     "name": "stdout",
     "output_type": "stream",
     "text": [
      "7\n"
     ]
    }
   ],
   "source": [
    "str = \"I am Indian\"\n",
    "print(str.find(\"di\"))"
   ]
  },
  {
   "cell_type": "code",
   "execution_count": null,
   "metadata": {},
   "outputs": [],
   "source": [
    "str = \"VELLORE\"\n",
    "print(str[-2])\n",
    "print(str[-5])\n",
    "print(str[-10])\n",
    "print(str[-1])\n",
    "print(str[0])\n",
    "print(str[4])\n",
    "print(str[0:4])\n",
    "print(str[-2:4])\n",
    "print(str[-1:-10])\n",
    "print(str[-2:-5])"
   ]
  },
  {
   "cell_type": "code",
   "execution_count": 1,
   "metadata": {},
   "outputs": [
    {
     "name": "stdout",
     "output_type": "stream",
     "text": [
      "lomnA\n",
      "It is a Palindrome\n",
      "Lower case 3\n",
      "Upper case 0\n"
     ]
    }
   ],
   "source": [
    "# 1st Reverse a string\n",
    "str = \"Anmol\"\n",
    "print(str[::-1])\n",
    "# 2nd A string is a palindrome or not\n",
    "str1 = \"abba\"\n",
    "str2 = str1[::-1]\n",
    "if(str1==str2):\n",
    "    print(\"It is a Palindrome\")\n",
    "else:\n",
    "    print(\"Not a Palindrome\")\n",
    "# 3rd Uppercase and Lowercase\n",
    "str = input(\"Enter the String\")\n",
    "lc,uc = 0,0\n",
    "for c in str:\n",
    "    if(c.islower()):lc+=1\n",
    "    if(c.isupper()):uc+=1\n",
    "print(\"Lower case\",lc)\n",
    "print(\"Upper case\",uc)"
   ]
  }
 ],
 "metadata": {
  "interpreter": {
   "hash": "3df1da5a001643c52532ecdada6e89843ccc0e6cdc890101982cbbd5276e2735"
  },
  "kernelspec": {
   "display_name": "Python 3.9.0 64-bit",
   "language": "python",
   "name": "python3"
  },
  "language_info": {
   "codemirror_mode": {
    "name": "ipython",
    "version": 3
   },
   "file_extension": ".py",
   "mimetype": "text/x-python",
   "name": "python",
   "nbconvert_exporter": "python",
   "pygments_lexer": "ipython3",
   "version": "3.9.0"
  },
  "orig_nbformat": 4
 },
 "nbformat": 4,
 "nbformat_minor": 2
}
