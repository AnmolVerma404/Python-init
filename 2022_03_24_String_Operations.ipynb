{
 "cells": [
  {
   "cell_type": "markdown",
   "metadata": {},
   "source": [
    "Simple and compound\n",
    "Simple contain only one type of data type and compound data type contain multiple eg: int and characters\n",
    "Index start with 0 in python and there is also negative indexing starting from -1 at last index\n",
    "Length of strings"
   ]
  },
  {
   "cell_type": "code",
   "execution_count": null,
   "metadata": {},
   "outputs": [],
   "source": [
    "fruit = \"apple\"\n",
    "length = len(fruit)\n",
    "print(length)"
   ]
  },
  {
   "cell_type": "markdown",
   "metadata": {},
   "source": [
    "String Slices :  a[n,m]\n",
    "where a is the string n is the starting and m is the end index"
   ]
  },
  {
   "cell_type": "code",
   "execution_count": null,
   "metadata": {},
   "outputs": [],
   "source": [
    "str = \"Peter, Paul, and Mary\"\n",
    "print(str[0:5])\n",
    "print(str[7:11])\n",
    "print(str[17:21])\n",
    "print(str[2:3])\n",
    "print(str[:3])\n",
    "print(str[3:])\n",
    "print(str[:])"
   ]
  },
  {
   "cell_type": "markdown",
   "metadata": {},
   "source": [
    "String Comparision"
   ]
  },
  {
   "cell_type": "code",
   "execution_count": null,
   "metadata": {},
   "outputs": [],
   "source": [
    "print(\"banana\"==\"banana\")\n",
    "print(\"apple\">=\"banana\")"
   ]
  },
  {
   "cell_type": "markdown",
   "metadata": {},
   "source": [
    "String are immutable"
   ]
  },
  {
   "cell_type": "code",
   "execution_count": null,
   "metadata": {},
   "outputs": [],
   "source": [
    "str = \"Hello, World!\"\n",
    "# str[0] = 'J' #Error\n",
    "name = \"\"\n",
    "name = \"Anmol\"\n",
    "# name[2] = \"b\" #Error\n",
    "print(name)"
   ]
  },
  {
   "cell_type": "markdown",
   "metadata": {},
   "source": [
    "Find function in string"
   ]
  },
  {
   "cell_type": "code",
   "execution_count": null,
   "metadata": {},
   "outputs": [],
   "source": [
    "str = \"I am Indian\"\n",
    "print(str.find(\"di\"))"
   ]
  },
  {
   "cell_type": "code",
   "execution_count": null,
   "metadata": {},
   "outputs": [],
   "source": [
    "str = \"VELLORE\"\n",
    "print(str[-2])\n",
    "print(str[-5])\n",
    "print(str[-10])\n",
    "print(str[-1])\n",
    "print(str[0])\n",
    "print(str[4])\n",
    "print(str[0:4])\n",
    "print(str[-2:4])\n",
    "print(str[-1:-10])\n",
    "print(str[-2:-5])"
   ]
  },
  {
   "cell_type": "code",
   "execution_count": null,
   "metadata": {},
   "outputs": [],
   "source": [
    "# 1st Reverse a string\n",
    "str = \"Anmol\"\n",
    "print(str[::-1])\n",
    "# 2nd A string is a palindrome or not\n",
    "str1 = \"abba\"\n",
    "str2 = str1[::-1]\n",
    "if(str1==str2):\n",
    "    print(\"It is a Palindrome\")\n",
    "else:\n",
    "    print(\"Not a Palindrome\")\n",
    "# 3rd Uppercase and Lowercase\n",
    "str = input(\"Enter the String\")\n",
    "lc,uc = 0,0\n",
    "for c in str:\n",
    "    if(c.islower()):lc+=1\n",
    "    if(c.isupper()):uc+=1\n",
    "print(\"Lower case\",lc)\n",
    "print(\"Upper case\",uc)"
   ]
  },
  {
   "cell_type": "code",
   "execution_count": null,
   "metadata": {},
   "outputs": [],
   "source": [
    "# list\n",
    "# define empty list\n",
    "a_list = []\n",
    "# append new item into list at the end of the list\n",
    "a_list.append(new_item)\n",
    "# append new item into list at a specific index\n",
    "a_list.insert(index, new_item)\n",
    "# remove an item from the list based on index\n",
    "a_list.pop(0)\n",
    "# remove an item from the list based on item value\n",
    "a_list.remove('two')\n",
    "# sort the items in ascending order, note that the data types must be similar\n",
    "a_list.sort()\n",
    "# reverse the order of the items\n",
    "a_list.reverse()\n",
    "\n",
    "# set \n",
    "# define an empty set\n",
    "a_set = set()\n",
    "# define a set\n",
    "a_set = {'one', 2}\n",
    "# adding item to a set\n",
    "a_set.add('c')\n",
    "# removing an item from a set, raise keyError if item does not exist\n",
    "a_set.remove('one')\n",
    "# removing an item from a set, no keyError if item does not exist\n",
    "a_set.discard('one')\n",
    "# remove the first item from a set and return it\n",
    "a_set.pop()\n",
    "# remove all items from a set\n",
    "a_set.clear()\n",
    "\n",
    "# Dictionary\n",
    "# define an empty dictionary\n",
    "a_dict = {}\n",
    "# define a dictionary\n",
    "a_dict = {\"one\":1, \"two\":2}\n",
    "# adding new items to the dictionary\n",
    "a_dict[new_key] = new_value\n",
    "# removing items from the dictionary\n",
    "del a_dict[a_key]\n",
    "# display the keys in the dictionary\n",
    "a_dict.keys()\n",
    "# display the values in the dictionary\n",
    "a_dict.values()\n",
    "# display the items in the dictionary\n",
    "a_dict.items()"
   ]
  },
  {
   "cell_type": "code",
   "execution_count": null,
   "metadata": {},
   "outputs": [],
   "source": [
    "# Conversion\n",
    "# List to Set Conversion\n",
    "def list_to_set(int_list):\n",
    "    my_set = set()\n",
    "    for each in int_list:\n",
    "        my_set.add(each)\n",
    "    \n",
    "    return my_set\n",
    "\n",
    "# List to Dictionary Conversion\n",
    "def list_to_dict(key_list, value_list):\n",
    "    my_dict = {}\n",
    "    for i in range (0, len(key_list)):\n",
    "        my_dict[key_list[i]] = value_list[i]\n",
    "        \n",
    "    return my_dict\n",
    "\n",
    "# Set to Dictionary Conversion\n",
    "def set_to_dict(tuple_set):\n",
    "    my_dict = {}\n",
    "    for each in tuple_set:\n",
    "        my_dict[each[0]] = each[1]\n",
    "    \n",
    "    return my_dict"
   ]
  },
  {
   "cell_type": "code",
   "execution_count": 4,
   "metadata": {},
   "outputs": [
    {
     "ename": "TclError",
     "evalue": "unknown color name \"Yello\"",
     "output_type": "error",
     "traceback": [
      "\u001b[1;31m---------------------------------------------------------------------------\u001b[0m",
      "\u001b[1;31mTclError\u001b[0m                                  Traceback (most recent call last)",
      "\u001b[1;32md:\\VIT\\6 Winter Inter Sem 2\\Siddharth Sir Python\\Code\\M-1\\2022_03_24_String_Operations.ipynb Cell 15'\u001b[0m in \u001b[0;36m<cell line: 5>\u001b[1;34m()\u001b[0m\n\u001b[0;32m      <a href='vscode-notebook-cell:/d%3A/VIT/6%20Winter%20Inter%20Sem%202/Siddharth%20Sir%20Python/Code/M-1/2022_03_24_String_Operations.ipynb#ch0000015?line=2'>3</a>\u001b[0m mybox \u001b[39m=\u001b[39m Tk()\n\u001b[0;32m      <a href='vscode-notebook-cell:/d%3A/VIT/6%20Winter%20Inter%20Sem%202/Siddharth%20Sir%20Python/Code/M-1/2022_03_24_String_Operations.ipynb#ch0000015?line=3'>4</a>\u001b[0m \u001b[39m# Button\u001b[39;00m\n\u001b[1;32m----> <a href='vscode-notebook-cell:/d%3A/VIT/6%20Winter%20Inter%20Sem%202/Siddharth%20Sir%20Python/Code/M-1/2022_03_24_String_Operations.ipynb#ch0000015?line=4'>5</a>\u001b[0m mybtn \u001b[39m=\u001b[39m Button(mybox,bg\u001b[39m=\u001b[39;49m\u001b[39m'\u001b[39;49m\u001b[39mRED\u001b[39;49m\u001b[39m'\u001b[39;49m,fg\u001b[39m=\u001b[39;49m\u001b[39m'\u001b[39;49m\u001b[39mYello\u001b[39;49m\u001b[39m'\u001b[39;49m,text\u001b[39m=\u001b[39;49m\u001b[39m'\u001b[39;49m\u001b[39mButton\u001b[39;49m\u001b[39m'\u001b[39;49m)\n",
      "File \u001b[1;32mc:\\Users\\vamit\\AppData\\Local\\Programs\\Python\\Python39\\lib\\tkinter\\__init__.py:2647\u001b[0m, in \u001b[0;36mButton.__init__\u001b[1;34m(self, master, cnf, **kw)\u001b[0m\n\u001b[0;32m   <a href='file:///c%3A/Users/vamit/AppData/Local/Programs/Python/Python39/lib/tkinter/__init__.py?line=2627'>2628</a>\u001b[0m \u001b[39mdef\u001b[39;00m \u001b[39m__init__\u001b[39m(\u001b[39mself\u001b[39m, master\u001b[39m=\u001b[39m\u001b[39mNone\u001b[39;00m, cnf\u001b[39m=\u001b[39m{}, \u001b[39m*\u001b[39m\u001b[39m*\u001b[39mkw):\n\u001b[0;32m   <a href='file:///c%3A/Users/vamit/AppData/Local/Programs/Python/Python39/lib/tkinter/__init__.py?line=2628'>2629</a>\u001b[0m     \u001b[39m\"\"\"Construct a button widget with the parent MASTER.\u001b[39;00m\n\u001b[0;32m   <a href='file:///c%3A/Users/vamit/AppData/Local/Programs/Python/Python39/lib/tkinter/__init__.py?line=2629'>2630</a>\u001b[0m \n\u001b[0;32m   <a href='file:///c%3A/Users/vamit/AppData/Local/Programs/Python/Python39/lib/tkinter/__init__.py?line=2630'>2631</a>\u001b[0m \u001b[39m    STANDARD OPTIONS\u001b[39;00m\n\u001b[1;32m   (...)\u001b[0m\n\u001b[0;32m   <a href='file:///c%3A/Users/vamit/AppData/Local/Programs/Python/Python39/lib/tkinter/__init__.py?line=2644'>2645</a>\u001b[0m \u001b[39m        overrelief, state, width\u001b[39;00m\n\u001b[0;32m   <a href='file:///c%3A/Users/vamit/AppData/Local/Programs/Python/Python39/lib/tkinter/__init__.py?line=2645'>2646</a>\u001b[0m \u001b[39m    \"\"\"\u001b[39;00m\n\u001b[1;32m-> <a href='file:///c%3A/Users/vamit/AppData/Local/Programs/Python/Python39/lib/tkinter/__init__.py?line=2646'>2647</a>\u001b[0m     Widget\u001b[39m.\u001b[39;49m\u001b[39m__init__\u001b[39;49m(\u001b[39mself\u001b[39;49m, master, \u001b[39m'\u001b[39;49m\u001b[39mbutton\u001b[39;49m\u001b[39m'\u001b[39;49m, cnf, kw)\n",
      "File \u001b[1;32mc:\\Users\\vamit\\AppData\\Local\\Programs\\Python\\Python39\\lib\\tkinter\\__init__.py:2569\u001b[0m, in \u001b[0;36mBaseWidget.__init__\u001b[1;34m(self, master, widgetName, cnf, kw, extra)\u001b[0m\n\u001b[0;32m   <a href='file:///c%3A/Users/vamit/AppData/Local/Programs/Python/Python39/lib/tkinter/__init__.py?line=2566'>2567</a>\u001b[0m \u001b[39mfor\u001b[39;00m k, v \u001b[39min\u001b[39;00m classes:\n\u001b[0;32m   <a href='file:///c%3A/Users/vamit/AppData/Local/Programs/Python/Python39/lib/tkinter/__init__.py?line=2567'>2568</a>\u001b[0m     \u001b[39mdel\u001b[39;00m cnf[k]\n\u001b[1;32m-> <a href='file:///c%3A/Users/vamit/AppData/Local/Programs/Python/Python39/lib/tkinter/__init__.py?line=2568'>2569</a>\u001b[0m \u001b[39mself\u001b[39;49m\u001b[39m.\u001b[39;49mtk\u001b[39m.\u001b[39;49mcall(\n\u001b[0;32m   <a href='file:///c%3A/Users/vamit/AppData/Local/Programs/Python/Python39/lib/tkinter/__init__.py?line=2569'>2570</a>\u001b[0m     (widgetName, \u001b[39mself\u001b[39;49m\u001b[39m.\u001b[39;49m_w) \u001b[39m+\u001b[39;49m extra \u001b[39m+\u001b[39;49m \u001b[39mself\u001b[39;49m\u001b[39m.\u001b[39;49m_options(cnf))\n\u001b[0;32m   <a href='file:///c%3A/Users/vamit/AppData/Local/Programs/Python/Python39/lib/tkinter/__init__.py?line=2570'>2571</a>\u001b[0m \u001b[39mfor\u001b[39;00m k, v \u001b[39min\u001b[39;00m classes:\n\u001b[0;32m   <a href='file:///c%3A/Users/vamit/AppData/Local/Programs/Python/Python39/lib/tkinter/__init__.py?line=2571'>2572</a>\u001b[0m     k\u001b[39m.\u001b[39mconfigure(\u001b[39mself\u001b[39m, v)\n",
      "\u001b[1;31mTclError\u001b[0m: unknown color name \"Yello\""
     ]
    }
   ],
   "source": [
    "# Tkinter important\n",
    "from tkinter import *\n",
    "mybox = Tk()\n",
    "# Button\n",
    "mybtn = Button(mybox,bg='RED',fg='Yello',text='Button')\n",
    "# Canva \n",
    "\n",
    "# CheckButton \n",
    "\n",
    "# Entry \n",
    "\n",
    "# Frame \n",
    "\n",
    "# Label \n",
    "\n",
    "# ListBox \n",
    "\n",
    "# Menubutton \n",
    "\n",
    "# Menu \n",
    "\n",
    "# Message \n",
    "\n",
    "# Radiobutton \n",
    "\n",
    "# Scale \n",
    "\n",
    "# Scrollbar \n",
    "\n",
    "# text \n",
    "\n",
    "# toplevel \n",
    "\n",
    "# spinbox \n",
    "\n",
    "# PanedWindow \n",
    "\n",
    "# LabelFrame \n",
    "\n",
    "# tkMessageBox \n"
   ]
  }
 ],
 "metadata": {
  "interpreter": {
   "hash": "a97aaf25270a684f90958810f3ee49c86670ff0c45d6f13555a60ba5756243ac"
  },
  "kernelspec": {
   "display_name": "Python 3.9.0 64-bit",
   "language": "python",
   "name": "python3"
  },
  "language_info": {
   "codemirror_mode": {
    "name": "ipython",
    "version": 3
   },
   "file_extension": ".py",
   "mimetype": "text/x-python",
   "name": "python",
   "nbconvert_exporter": "python",
   "pygments_lexer": "ipython3",
   "version": "3.9.0"
  },
  "orig_nbformat": 4
 },
 "nbformat": 4,
 "nbformat_minor": 2
}
