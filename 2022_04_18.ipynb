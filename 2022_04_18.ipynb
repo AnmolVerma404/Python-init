{
 "cells": [
  {
   "cell_type": "markdown",
   "metadata": {},
   "source": [
    "Pseudo code, flowchart, program with inp and opt img in whatsApp group"
   ]
  },
  {
   "cell_type": "markdown",
   "metadata": {},
   "source": [
    "# Files in Python\n",
    "Python has a build in fumction whose name is open(). Basically python file open() is used to open a file.\n"
   ]
  },
  {
   "cell_type": "code",
   "execution_count": null,
   "metadata": {},
   "outputs": [],
   "source": [
    "# Read\n",
    "f = open(\"./file.txt\",'r')\n",
    "print(f.read())\n",
    "f.close()\n"
   ]
  },
  {
   "cell_type": "code",
   "execution_count": null,
   "metadata": {},
   "outputs": [],
   "source": [
    "# Write\n",
    "# w will create a new file if not avalible\n",
    "f = open(\"./file.txt\",'w')\n",
    "f.close()"
   ]
  },
  {
   "cell_type": "code",
   "execution_count": 31,
   "metadata": {},
   "outputs": [],
   "source": [
    "# Append\n",
    "f = open(\"./file.txt\",'a')\n",
    "f.write(\"\\nHi\")\n",
    "f.close()"
   ]
  },
  {
   "cell_type": "markdown",
   "metadata": {},
   "source": [
    "A program to create a file on desktop append some information into it, display the file content and again append your subject name in the file and save it."
   ]
  },
  {
   "cell_type": "code",
   "execution_count": 39,
   "metadata": {},
   "outputs": [
    {
     "name": "stdout",
     "output_type": "stream",
     "text": [
      "Hello there...\n"
     ]
    }
   ],
   "source": [
    "f1 = open(\"./2022_04_18.txt\",'w')\n",
    "f1.write(\"Hello there...\")\n",
    "f1.close()\n",
    "f2 = open(\"./2022_04_18.txt\",'r')\n",
    "print(f2.read())\n",
    "f2.close()\n",
    "f3 = open(\"./2022_04_18.txt\",'a')\n",
    "f3.write(\"\\nJoin the dark side!!!\")\n",
    "f3.close()"
   ]
  },
  {
   "cell_type": "code",
   "execution_count": 6,
   "metadata": {},
   "outputs": [
    {
     "name": "stdout",
     "output_type": "stream",
     "text": [
      "5\n",
      "2\n",
      "1\n",
      "0\n",
      "0\n",
      "0\n",
      "0\n"
     ]
    }
   ],
   "source": [
    "x = 5\n",
    "print(x>>0)\n",
    "print(x>>1)\n",
    "print(x>>2)\n",
    "print(x>>3)\n",
    "print(x>>4)\n",
    "print(x>>5)\n",
    "print(x>>6)"
   ]
  }
 ],
 "metadata": {
  "interpreter": {
   "hash": "3df1da5a001643c52532ecdada6e89843ccc0e6cdc890101982cbbd5276e2735"
  },
  "kernelspec": {
   "display_name": "Python 3.9.0 64-bit",
   "language": "python",
   "name": "python3"
  },
  "language_info": {
   "codemirror_mode": {
    "name": "ipython",
    "version": 3
   },
   "file_extension": ".py",
   "mimetype": "text/x-python",
   "name": "python",
   "nbconvert_exporter": "python",
   "pygments_lexer": "ipython3",
   "version": "3.9.0"
  },
  "orig_nbformat": 4
 },
 "nbformat": 4,
 "nbformat_minor": 2
}
