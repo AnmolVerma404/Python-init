{
 "cells": [
  {
   "cell_type": "markdown",
   "metadata": {},
   "source": [
    "### Dictionary in python\n",
    "Syntex: \n",
    "```python\n",
    "dict = {key:value}\n",
    "```"
   ]
  },
  {
   "cell_type": "code",
   "execution_count": null,
   "metadata": {},
   "outputs": [],
   "source": [
    "# Create a dict. with key value pairs where three key - value pairs is key's name are fruit1,fruit2,fruit3 and value are mango, apple and strawberry\n",
    "dict = {'fruit1': 'mango', 'fruit2': 'apple', 'fruit3': 'strawberry'}\n",
    "print(dict)\n",
    "# Print the value of fruit3\n",
    "print(dict['fruit3'])"
   ]
  },
  {
   "cell_type": "code",
   "execution_count": null,
   "metadata": {},
   "outputs": [],
   "source": [
    "# Write a program to make a dictionary of 4 key-value pairs and perform the various opperation like - items, keys, value, update, get, pop\n",
    "\n",
    "dict = {1:'a',2:'b',3:'c',4:'d'}\n",
    "print(\"Items\",dict.items())\n",
    "print(\"Key\",dict.keys())\n",
    "print(\"Value\",dict.values())\n",
    "dict.update({5:'b'})# This updates and also add it the key is not present\n",
    "print(\"After update\",dict)\n",
    "print(\"Get\",dict.get(3))\n",
    "print(\"After pop\",dict.pop(3))\n"
   ]
  },
  {
   "cell_type": "code",
   "execution_count": null,
   "metadata": {},
   "outputs": [],
   "source": [
    "# Write down a program to compare two dictionaries\n",
    "dict1 = {'fruit1': 'mango', 'fruit2': 'apple', 'fruit3': 'strawberry'}\n",
    "dict2 = {'veg':'one','veg2':'two','veg3':'three'}\n",
    "if dict1 == dict2:\n",
    "    print(\"Yes\")\n",
    "else:\n",
    "    print(\"No\")\n",
    "dict1.update(dict2)\n",
    "print(dict1)"
   ]
  },
  {
   "cell_type": "code",
   "execution_count": null,
   "metadata": {},
   "outputs": [],
   "source": [
    "dict1 = {'fruit1': 'mango', 'fruit2': 'apple', 'fruit3': 'strawberry'}\n",
    "dict2 = dict1.copy()\n",
    "del dict2['fruit3']\n",
    "print(dict1)\n",
    "print(dict2)"
   ]
  },
  {
   "cell_type": "code",
   "execution_count": null,
   "metadata": {},
   "outputs": [],
   "source": [
    "dict1 = {'fruit1': 'mango', 'fruit2': 'apple', 'fruit3': 'strawberry'}\n",
    "print(dict1)\n",
    "dict1['fruit1'] = 'banana'\n",
    "print(dict1)"
   ]
  },
  {
   "cell_type": "markdown",
   "metadata": {},
   "source": [
    "### Set in python"
   ]
  },
  {
   "cell_type": "code",
   "execution_count": null,
   "metadata": {},
   "outputs": [],
   "source": [
    "# Three ways to define set\n",
    "set1 = set() #1\n",
    "set1.add(1)\n",
    "set1.add(2)\n",
    "set2 = {1,2,3,4} #2\n",
    "set3 = set([1,2,3,4]) #3\n",
    "print(set1)\n",
    "print(set2)\n",
    "print(set3)"
   ]
  },
  {
   "cell_type": "code",
   "execution_count": null,
   "metadata": {},
   "outputs": [],
   "source": [
    "# Write a program to create a set\n",
    "a2 = {1,2,3,4,1,3}\n",
    "print(a2)"
   ]
  },
  {
   "cell_type": "markdown",
   "metadata": {},
   "source": [
    "- Ordered\n",
    "    - String\n",
    "    - List\n",
    "    - Tuple\n",
    "- Unordered\n",
    "    - Dictionary\n",
    "    - Sets"
   ]
  },
  {
   "cell_type": "markdown",
   "metadata": {},
   "source": [
    "### What are data types in python? Explain each of them with example?\n",
    "Variables can store data of different types, in python data type can be like - int, float, bool, string\n",
    "int can store numeric value like age, float can store decimal value like score, temperature. Boolean can store true or false value and string can store characters\n",
    "### Write a program to differentiate b/w oredered and unordered DS in python with exaple?\n",
    "Ordered- list, string, tuple\n",
    "Unordered- sets, dictionaries\n",
    "To differentiate b/w ordered and unordered we can print the list, it will be in the same ordere which we specified/defined"
   ]
  },
  {
   "cell_type": "code",
   "execution_count": 7,
   "metadata": {},
   "outputs": [
    {
     "name": "stdout",
     "output_type": "stream",
     "text": [
      "{1, 2, 3}\n",
      "{1, 2, 3, 4}\n",
      "{1, 2, 3, 4, 5}\n",
      "{1, 2, 3, 4}\n"
     ]
    }
   ],
   "source": [
    "# Write a program to perform all the function in set?\n",
    "set = {1,2,3}\n",
    "print(set)\n",
    "set.add(4)\n",
    "print(set)\n",
    "set.update([5])\n",
    "print(set)\n",
    "set.discard(5)\n",
    "print(set)"
   ]
  }
 ],
 "metadata": {
  "interpreter": {
   "hash": "3df1da5a001643c52532ecdada6e89843ccc0e6cdc890101982cbbd5276e2735"
  },
  "kernelspec": {
   "display_name": "Python 3.9.0 64-bit",
   "language": "python",
   "name": "python3"
  },
  "language_info": {
   "codemirror_mode": {
    "name": "ipython",
    "version": 3
   },
   "file_extension": ".py",
   "mimetype": "text/x-python",
   "name": "python",
   "nbconvert_exporter": "python",
   "pygments_lexer": "ipython3",
   "version": "3.9.0"
  },
  "orig_nbformat": 4
 },
 "nbformat": 4,
 "nbformat_minor": 2
}
