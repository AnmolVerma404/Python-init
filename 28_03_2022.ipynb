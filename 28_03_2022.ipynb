{
 "cells": [
  {
   "cell_type": "markdown",
   "metadata": {},
   "source": [
    "### Recursion:-\n",
    "#### Direct\n",
    "When a function call itself\n",
    "#### Indirect\n",
    "When a function call other function."
   ]
  },
  {
   "cell_type": "code",
   "execution_count": null,
   "metadata": {},
   "outputs": [],
   "source": [
    "# Write a program to find a factorial of a number\n",
    "def fact(n):\n",
    "    if n==1:\n",
    "        return 1\n",
    "    else:\n",
    "        return n*fact(n-1)\n",
    "\n",
    "print(fact(4))\n"
   ]
  },
  {
   "cell_type": "markdown",
   "metadata": {},
   "source": [
    "## List\n",
    "A list is and ordered set of values where each value is identified by an index.\n",
    "<br>\n",
    "*Q) Can a string have multiple data types?*"
   ]
  },
  {
   "cell_type": "code",
   "execution_count": null,
   "metadata": {},
   "outputs": [],
   "source": [
    "import string\n",
    "list(range(10))\n",
    "num = [1,2,3,4]\n",
    "print(num)"
   ]
  },
  {
   "cell_type": "code",
   "execution_count": null,
   "metadata": {},
   "outputs": [],
   "source": [
    "# Create a list numbers with numbers 5,7,2,1,0 Print the index of 0\n",
    "numbers = [5,7,2,1,0]\n",
    "# print(numbers.index(0))\n",
    "# In the same list add your name, university name and the value of index with -3 and +3\n",
    "numbers.append(\"Anmol\")\n",
    "numbers.append(\"VITB\")\n",
    "print(numbers)\n",
    "print(numbers[3])\n",
    "print(numbers[-3])\n",
    "print(\"Length of the numbers list\",len(numbers))"
   ]
  },
  {
   "cell_type": "code",
   "execution_count": null,
   "metadata": {},
   "outputs": [],
   "source": [
    "# Q) Create a list as given in the ppt and print the sublist from the list with value of the cities\n",
    "L = ['yourname',1,['mumbai','bhopal','indore'],[1,2,3]]\n",
    "print(L[2])"
   ]
  },
  {
   "cell_type": "code",
   "execution_count": null,
   "metadata": {},
   "outputs": [],
   "source": [
    "horsemen = ['war','famine','pestilence','death']\n",
    "# horsemen.find('pestilence')\n",
    "print('pestilence' in horsemen)\n",
    "list = ['a','b','c','d','e']\n",
    "list[1,3] = ['s','t']\n",
    "print(list)"
   ]
  },
  {
   "cell_type": "code",
   "execution_count": null,
   "metadata": {},
   "outputs": [],
   "source": [
    "import string\n",
    "# Using range function print list with [a to z]\n",
    "# for c in range(97,123):\n",
    "#     print(chr(c))\n",
    "print(list(string.ascii_lowercase))\n",
    "# list = ['a','b','c']\n",
    "# list[1:2] = [5,56,55,22]\n",
    "# print(list)"
   ]
  },
  {
   "cell_type": "code",
   "execution_count": null,
   "metadata": {},
   "outputs": [],
   "source": [
    "a = [44,45,456,2434,132,68]\n",
    "del a[1]\n",
    "print(a)"
   ]
  },
  {
   "cell_type": "code",
   "execution_count": null,
   "metadata": {},
   "outputs": [],
   "source": [
    "a = [44,45,456,2434,132,68]\n",
    "del a[1:3]\n",
    "print(a)"
   ]
  },
  {
   "cell_type": "code",
   "execution_count": 59,
   "metadata": {},
   "outputs": [
    {
     "name": "stdout",
     "output_type": "stream",
     "text": [
      "2432945570736\n",
      "2432945570736\n",
      "2432944707008\n",
      "2432945581568\n",
      "2432945581568\n",
      "2432945581568\n"
     ]
    }
   ],
   "source": [
    "a = 'banana'\n",
    "b = 'banana'\n",
    "print(id(a))\n",
    "print(id(b))\n",
    "list1 = [1,2,3]\n",
    "list2 = [1,2,3]\n",
    "print(id(list1))\n",
    "print(id(list2))\n",
    "list1 = list2\n",
    "print(id(list1))\n",
    "print(id(list2))"
   ]
  },
  {
   "cell_type": "code",
   "execution_count": 62,
   "metadata": {},
   "outputs": [
    {
     "name": "stdout",
     "output_type": "stream",
     "text": [
      "None\n",
      "0\n",
      "1\n"
     ]
    },
    {
     "ename": "ValueError",
     "evalue": "list.remove(x): x not in list",
     "output_type": "error",
     "traceback": [
      "\u001b[1;31m---------------------------------------------------------------------------\u001b[0m",
      "\u001b[1;31mValueError\u001b[0m                                Traceback (most recent call last)",
      "\u001b[1;32md:\\VIT\\6 Winter Inter Sem 2\\Siddharth Sir Python\\Code\\M-1\\28_03_2022.ipynb Cell 12'\u001b[0m in \u001b[0;36m<cell line: 6>\u001b[1;34m()\u001b[0m\n\u001b[0;32m      <a href='vscode-notebook-cell:/d%3A/VIT/6%20Winter%20Inter%20Sem%202/Siddharth%20Sir%20Python/Code/M-1/28_03_2022.ipynb#ch0000015?line=3'>4</a>\u001b[0m \u001b[39mprint\u001b[39m(a\u001b[39m.\u001b[39mcount(\u001b[39m5\u001b[39m))\n\u001b[0;32m      <a href='vscode-notebook-cell:/d%3A/VIT/6%20Winter%20Inter%20Sem%202/Siddharth%20Sir%20Python/Code/M-1/28_03_2022.ipynb#ch0000015?line=4'>5</a>\u001b[0m \u001b[39mprint\u001b[39m(a\u001b[39m.\u001b[39mindex(\u001b[39m20\u001b[39m))\n\u001b[1;32m----> <a href='vscode-notebook-cell:/d%3A/VIT/6%20Winter%20Inter%20Sem%202/Siddharth%20Sir%20Python/Code/M-1/28_03_2022.ipynb#ch0000015?line=5'>6</a>\u001b[0m \u001b[39mprint\u001b[39m(a\u001b[39m.\u001b[39;49mremove(\u001b[39m4\u001b[39;49m))\n\u001b[0;32m      <a href='vscode-notebook-cell:/d%3A/VIT/6%20Winter%20Inter%20Sem%202/Siddharth%20Sir%20Python/Code/M-1/28_03_2022.ipynb#ch0000015?line=6'>7</a>\u001b[0m \u001b[39mprint\u001b[39m(\u001b[39mmin\u001b[39m(a))\n\u001b[0;32m      <a href='vscode-notebook-cell:/d%3A/VIT/6%20Winter%20Inter%20Sem%202/Siddharth%20Sir%20Python/Code/M-1/28_03_2022.ipynb#ch0000015?line=7'>8</a>\u001b[0m \u001b[39mprint\u001b[39m(\u001b[39mmax\u001b[39m(a))\n",
      "\u001b[1;31mValueError\u001b[0m: list.remove(x): x not in list"
     ]
    }
   ],
   "source": [
    "# In build list function\n",
    "a = [10,20,30,\"abc\",10]\n",
    "print(a.append(45))\n",
    "print(a.count(5))\n",
    "print(a.index(20))\n",
    "print(a.remove(4))\n",
    "print(min(a))\n",
    "print(max(a))\n",
    "print(a.sort())"
   ]
  }
 ],
 "metadata": {
  "interpreter": {
   "hash": "3df1da5a001643c52532ecdada6e89843ccc0e6cdc890101982cbbd5276e2735"
  },
  "kernelspec": {
   "display_name": "Python 3.9.0 64-bit",
   "language": "python",
   "name": "python3"
  },
  "language_info": {
   "codemirror_mode": {
    "name": "ipython",
    "version": 3
   },
   "file_extension": ".py",
   "mimetype": "text/x-python",
   "name": "python",
   "nbconvert_exporter": "python",
   "pygments_lexer": "ipython3",
   "version": "3.9.0"
  },
  "orig_nbformat": 4
 },
 "nbformat": 4,
 "nbformat_minor": 2
}
