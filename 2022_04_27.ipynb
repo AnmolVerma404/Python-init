{
 "cells": [
  {
   "cell_type": "code",
   "execution_count": null,
   "metadata": {},
   "outputs": [],
   "source": [
    "from tkinter import * \n",
    "myw = Tk()\n",
    "myw.geometry('500x300')\n",
    "myw.configure(bg='yellow')\n",
    "myw.title(\"Radiobutton widget using tkinter\")\n",
    "myvar = IntVar()\n",
    "myl = Label(myw,width=18)\n",
    "myl.grid(row=0)\n",
    "def myf():\n",
    "    myl.configure(text='You have selected '+str(myvar.get()))\n",
    "# rb1 = Radiobutton(myw,text='Male',variable=myvar,value=0,width=15,anchor='w',command=myf)\n",
    "# rb1.grid(row=1)\n",
    "# rb2 = Radiobutton(myw,text='Female',variable=myvar,value=1,width=15,anchor='w',command=myf)\n",
    "# rb2.grid(row=2)\n",
    "# rb2.select()\n",
    "rb1 = Radiobutton(myw,text='Option 1',variable=myvar,value=0,width=15,anchor='w',command=myf)\n",
    "rb1.grid(row=1)\n",
    "rb2 = Radiobutton(myw,text='Option 2',variable=myvar,value=1,width=15,anchor='w',command=myf)\n",
    "rb2.grid(row=2)\n",
    "rb3 = Radiobutton(myw,text='Option 3',variable=myvar,value=2,width=15,anchor='w',command=myf)\n",
    "rb3.grid(row=3)\n",
    "rb4 = Radiobutton(myw,text='Option 4',variable=myvar,value=3,width=15,anchor='w',command=myf)\n",
    "rb4.grid(row=4)\n",
    "rb1.select()\n",
    "mainloop()"
   ]
  },
  {
   "cell_type": "markdown",
   "metadata": {},
   "source": [
    "Write down a code for displaying Checkbox in python using tkinter"
   ]
  },
  {
   "cell_type": "code",
   "execution_count": 2,
   "metadata": {},
   "outputs": [],
   "source": [
    "from tkinter import * \n",
    "myw = Tk()\n",
    "myw.geometry('500x300')\n",
    "myw.configure(bg='yellow')\n",
    "myw.title(\"Checkkbutton widget using tkinter\")\n",
    "myvar1 = IntVar()\n",
    "myvar2 = IntVar()\n",
    "my1 = Label(myw,width=18)\n",
    "my1.grid(row=0)\n",
    "def myf():\n",
    "    my1.configure(text='Music '+str(myvar1.get()) + \" Reading \"+str(myvar2.get()))\n",
    "cb1 = Checkbutton(myw,text='Music',variable=myvar1,onvalue=1,offvalue=0,width=15,anchor='w',command=myf)\n",
    "cb1.grid(row=1)\n",
    "cb2 = Checkbutton(myw,text='Reading',variable=myvar2,onvalue=1,offvalue=0,width=15,anchor='w',command=myf)\n",
    "cb2.grid(row=2)\n",
    "mainloop()"
   ]
  },
  {
   "cell_type": "code",
   "execution_count": 11,
   "metadata": {},
   "outputs": [],
   "source": [
    "from tkinter import * \n",
    "from tkinter.filedialog import askopenfilename\n",
    "myw = Tk()\n",
    "myw.geometry('300x200')\n",
    "myw.configure(bg='yellow')\n",
    "myw.title(\"Menu widget using tkinter\")\n",
    "mymenu = Menu(myw)\n",
    "myw.config(menu=mymenu)\n",
    "filemenu = Menu(mymenu)\n",
    "mymenu.add_cascade(label='File',menu=filemenu)\n",
    "filemenu.add_command(label= 'New')\n",
    "filemenu.add_command(label='Open')\n",
    "filemenu.add_separator()\n",
    "filemenu.add_command(label='Save')\n",
    "filemenu.add_command(label='SaveAs')\n",
    "editmenu = Menu(mymenu)\n",
    "mymenu.add_cascade(label='Edit',menu=editmenu)\n",
    "editmenu.add_command(label='Cut')\n",
    "editmenu.add_command(label='Copy')\n",
    "editmenu.add_command(label='Paste')\n",
    "mainloop()"
   ]
  }
 ],
 "metadata": {
  "interpreter": {
   "hash": "a97aaf25270a684f90958810f3ee49c86670ff0c45d6f13555a60ba5756243ac"
  },
  "kernelspec": {
   "display_name": "Python 3.9.0 64-bit",
   "language": "python",
   "name": "python3"
  },
  "language_info": {
   "codemirror_mode": {
    "name": "ipython",
    "version": 3
   },
   "file_extension": ".py",
   "mimetype": "text/x-python",
   "name": "python",
   "nbconvert_exporter": "python",
   "pygments_lexer": "ipython3",
   "version": "3.9.0"
  },
  "orig_nbformat": 4
 },
 "nbformat": 4,
 "nbformat_minor": 2
}
